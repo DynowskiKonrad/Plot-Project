{
 "cells": [
  {
   "cell_type": "code",
   "execution_count": 22,
   "metadata": {},
   "outputs": [],
   "source": [
    "from timeit import timeit\n",
    "n = 100000"
   ]
  },
  {
   "cell_type": "code",
   "execution_count": 48,
   "metadata": {},
   "outputs": [],
   "source": [
    "def squares2():\n",
    "    array = [i**2 for i in range(n+1)]"
   ]
  },
  {
   "cell_type": "code",
   "execution_count": 26,
   "metadata": {},
   "outputs": [
    {
     "data": {
      "text/plain": [
       "4.686073739955532"
      ]
     },
     "execution_count": 26,
     "metadata": {},
     "output_type": "execute_result"
    }
   ],
   "source": [
    "timeit(arraycreator, number=100)"
   ]
  },
  {
   "cell_type": "code",
   "execution_count": 27,
   "metadata": {
    "scrolled": true
   },
   "outputs": [],
   "source": [
    "\"\"\"\n",
    "numpy - numerical python\n",
    "\"\"\"\n",
    "import numpy as np"
   ]
  },
  {
   "cell_type": "code",
   "execution_count": 29,
   "metadata": {},
   "outputs": [
    {
     "data": {
      "text/plain": [
       "False"
      ]
     },
     "execution_count": 29,
     "metadata": {},
     "output_type": "execute_result"
    }
   ],
   "source": [
    "np.sin(0.25 * np.pi)**2 == 0.5"
   ]
  },
  {
   "cell_type": "code",
   "execution_count": 32,
   "metadata": {},
   "outputs": [
    {
     "data": {
      "text/plain": [
       "array([1, 2, 3])"
      ]
     },
     "execution_count": 32,
     "metadata": {},
     "output_type": "execute_result"
    }
   ],
   "source": [
    "arr1 = np.array([1,2,3])\n",
    "arr1"
   ]
  },
  {
   "cell_type": "code",
   "execution_count": 37,
   "metadata": {},
   "outputs": [
    {
     "data": {
      "text/plain": [
       "array([0. , 0.5, 2. ])"
      ]
     },
     "execution_count": 37,
     "metadata": {},
     "output_type": "execute_result"
    }
   ],
   "source": [
    "arr2 = np.array([0, 1/2, 2], dtype=float)\n",
    "arr2"
   ]
  },
  {
   "cell_type": "code",
   "execution_count": 38,
   "metadata": {},
   "outputs": [
    {
     "data": {
      "text/plain": [
       "dtype('int32')"
      ]
     },
     "execution_count": 38,
     "metadata": {},
     "output_type": "execute_result"
    }
   ],
   "source": [
    "arr1.dtype"
   ]
  },
  {
   "cell_type": "code",
   "execution_count": 39,
   "metadata": {},
   "outputs": [
    {
     "data": {
      "text/plain": [
       "dtype('float64')"
      ]
     },
     "execution_count": 39,
     "metadata": {},
     "output_type": "execute_result"
    }
   ],
   "source": [
    "arr2.dtype"
   ]
  },
  {
   "cell_type": "code",
   "execution_count": 42,
   "metadata": {},
   "outputs": [
    {
     "ename": "SyntaxError",
     "evalue": "invalid syntax (<ipython-input-42-a88a5228d057>, line 1)",
     "output_type": "error",
     "traceback": [
      "\u001b[1;36m  File \u001b[1;32m\"<ipython-input-42-a88a5228d057>\"\u001b[1;36m, line \u001b[1;32m1\u001b[0m\n\u001b[1;33m    np.sin(arr2* np.pi)**2.round(2)\u001b[0m\n\u001b[1;37m                               ^\u001b[0m\n\u001b[1;31mSyntaxError\u001b[0m\u001b[1;31m:\u001b[0m invalid syntax\n"
     ]
    }
   ],
   "source": [
    "np.sin(arr2* np.pi)**2.round(2)"
   ]
  },
  {
   "cell_type": "code",
   "execution_count": 43,
   "metadata": {},
   "outputs": [
    {
     "data": {
      "text/plain": [
       "array([ 1. ,  1.5,  2. ,  2.5,  3. ,  3.5,  4. ,  4.5,  5. ,  5.5,  6. ,\n",
       "        6.5,  7. ,  7.5,  8. ,  8.5,  9. ,  9.5, 10. , 10.5])"
      ]
     },
     "execution_count": 43,
     "metadata": {},
     "output_type": "execute_result"
    }
   ],
   "source": [
    "np.arange(1,11,0.5)"
   ]
  },
  {
   "cell_type": "code",
   "execution_count": 46,
   "metadata": {},
   "outputs": [],
   "source": [
    "def squares3():\n",
    "    return np.arange(1,n+1,)**2"
   ]
  },
  {
   "cell_type": "code",
   "execution_count": 49,
   "metadata": {},
   "outputs": [
    {
     "data": {
      "text/plain": [
       "322.84325899609274"
      ]
     },
     "execution_count": 49,
     "metadata": {},
     "output_type": "execute_result"
    }
   ],
   "source": [
    "timeit(squares2, number = 100) / timeit(squares3, number = 100)"
   ]
  },
  {
   "cell_type": "code",
   "execution_count": 51,
   "metadata": {},
   "outputs": [
    {
     "data": {
      "text/plain": [
       "array([[1, 2],\n",
       "       [3, 4]])"
      ]
     },
     "execution_count": 51,
     "metadata": {},
     "output_type": "execute_result"
    }
   ],
   "source": [
    "np.array([[1,2],[3,4]])"
   ]
  },
  {
   "cell_type": "code",
   "execution_count": 53,
   "metadata": {},
   "outputs": [],
   "source": [
    "A = np.matrix([[1,2],[3,4]])\n",
    "I = np.eye(len(A))"
   ]
  },
  {
   "cell_type": "code",
   "execution_count": 54,
   "metadata": {},
   "outputs": [
    {
     "data": {
      "text/plain": [
       "matrix([[1., 2.],\n",
       "        [3., 4.]])"
      ]
     },
     "execution_count": 54,
     "metadata": {},
     "output_type": "execute_result"
    }
   ],
   "source": [
    "A*I"
   ]
  },
  {
   "cell_type": "code",
   "execution_count": 55,
   "metadata": {},
   "outputs": [
    {
     "data": {
      "text/plain": [
       "array([[1., 1., 1., 1., 1.],\n",
       "       [1., 1., 1., 1., 1.],\n",
       "       [1., 1., 1., 1., 1.]])"
      ]
     },
     "execution_count": 55,
     "metadata": {},
     "output_type": "execute_result"
    }
   ],
   "source": [
    "np.ones((3,5))"
   ]
  },
  {
   "cell_type": "code",
   "execution_count": 56,
   "metadata": {},
   "outputs": [
    {
     "data": {
      "text/plain": [
       "array([[[[0., 0.],\n",
       "         [0., 0.]],\n",
       "\n",
       "        [[0., 0.],\n",
       "         [0., 0.]]],\n",
       "\n",
       "\n",
       "       [[[0., 0.],\n",
       "         [0., 0.]],\n",
       "\n",
       "        [[0., 0.],\n",
       "         [0., 0.]]]])"
      ]
     },
     "execution_count": 56,
     "metadata": {},
     "output_type": "execute_result"
    }
   ],
   "source": [
    "np.zeros((2,2,2,2))"
   ]
  },
  {
   "cell_type": "code",
   "execution_count": 57,
   "metadata": {},
   "outputs": [
    {
     "data": {
      "text/plain": [
       "array([[0.83687913, 0.37354657, 0.13583473, 0.20274504, 0.63085346],\n",
       "       [0.29351755, 0.25275529, 0.93471906, 0.71864786, 0.28234769]])"
      ]
     },
     "execution_count": 57,
     "metadata": {},
     "output_type": "execute_result"
    }
   ],
   "source": [
    "np.random.rand(2, 5)"
   ]
  },
  {
   "cell_type": "code",
   "execution_count": 59,
   "metadata": {},
   "outputs": [],
   "source": [
    "arr = 100 * np.random.rand(10,10)"
   ]
  },
  {
   "cell_type": "code",
   "execution_count": 60,
   "metadata": {},
   "outputs": [
    {
     "data": {
      "text/plain": [
       "array([81.20629961, 24.21876002, 29.82025809, 43.37970735, 91.08211963,\n",
       "        2.64743795, 94.75392036, 79.57898394, 46.26545154, 73.26419659])"
      ]
     },
     "execution_count": 60,
     "metadata": {},
     "output_type": "execute_result"
    }
   ],
   "source": [
    "arr[:, 0]"
   ]
  },
  {
   "cell_type": "code",
   "execution_count": 61,
   "metadata": {},
   "outputs": [
    {
     "data": {
      "text/plain": [
       "array([81.20629961, 29.77050471, 40.06449441, 18.46356382, 28.49051444,\n",
       "       17.97432797, 31.19813529, 38.53628194,  9.22035278, 93.38167493])"
      ]
     },
     "execution_count": 61,
     "metadata": {},
     "output_type": "execute_result"
    }
   ],
   "source": [
    "arr[0,:]"
   ]
  },
  {
   "cell_type": "code",
   "execution_count": 63,
   "metadata": {},
   "outputs": [
    {
     "data": {
      "text/plain": [
       "array([[81.20629961, 28.49051444,  9.22035278],\n",
       "       [24.21876002,  1.97190009, 85.38495234],\n",
       "       [29.82025809, 70.74611928, 59.44401745],\n",
       "       [43.37970735,  0.62146248, 40.77460261],\n",
       "       [91.08211963, 37.89508395, 26.0667181 ],\n",
       "       [ 2.64743795, 63.47924102, 41.27085678],\n",
       "       [94.75392036, 14.82789604,  6.68773406],\n",
       "       [79.57898394, 78.75020119, 39.83806365],\n",
       "       [46.26545154, 70.71187968, 58.11678475],\n",
       "       [73.26419659, 82.12431843, 56.44909559]])"
      ]
     },
     "execution_count": 63,
     "metadata": {},
     "output_type": "execute_result"
    }
   ],
   "source": [
    "arr[:,::4]"
   ]
  },
  {
   "cell_type": "code",
   "execution_count": 65,
   "metadata": {},
   "outputs": [
    {
     "data": {
      "text/plain": [
       "array([[False,  True,  True],\n",
       "       [ True,  True, False],\n",
       "       [ True, False, False],\n",
       "       [ True,  True,  True],\n",
       "       [False,  True,  True],\n",
       "       [ True, False,  True],\n",
       "       [False,  True,  True],\n",
       "       [False, False,  True],\n",
       "       [ True, False, False],\n",
       "       [False, False, False]])"
      ]
     },
     "execution_count": 65,
     "metadata": {},
     "output_type": "execute_result"
    }
   ],
   "source": [
    "arr[:, (0, 4, 8)] < 50"
   ]
  },
  {
   "cell_type": "code",
   "execution_count": 66,
   "metadata": {},
   "outputs": [
    {
     "data": {
      "text/plain": [
       "array([29.77050471, 40.06449441, 18.46356382, 28.49051444, 17.97432797,\n",
       "       31.19813529, 38.53628194,  9.22035278, 24.21876002,  6.59056796,\n",
       "        1.97190009, 23.26867774, 29.82025809,  3.61478069, 14.51173312,\n",
       "        9.35471313, 43.37970735,  8.71164129,  0.62146248, 34.74008566,\n",
       "       41.84580943, 36.77194714, 40.77460261, 35.37464447, 37.89508395,\n",
       "       40.39204901, 30.03659348, 31.80785361, 26.0667181 ,  2.37656357,\n",
       "        2.64743795,  6.46952104, 32.64179295, 24.06157984, 41.27085678,\n",
       "        3.71923458,  2.0565824 , 14.82789604, 12.5333356 , 37.08639019,\n",
       "        6.68773406,  8.25409322, 28.48165077, 10.98486001, 39.83806365,\n",
       "       35.95445844, 46.26545154, 12.72878708, 43.69872233,  2.69813873,\n",
       "       29.30980723, 39.86883346, 16.5920892 , 41.88608953])"
      ]
     },
     "execution_count": 66,
     "metadata": {},
     "output_type": "execute_result"
    }
   ],
   "source": [
    "arr[arr<50]"
   ]
  },
  {
   "cell_type": "code",
   "execution_count": 67,
   "metadata": {},
   "outputs": [
    {
     "data": {
      "text/plain": [
       "array([[81.20629961,  0.        ,  0.        ,  0.        ,  0.        ,\n",
       "         0.        ,  0.        ,  0.        ,  0.        , 93.38167493],\n",
       "       [ 0.        ,  0.        , 77.15956205, 78.92069286,  0.        ,\n",
       "        51.17737169,  0.        , 75.34286163, 85.38495234, 54.10951772],\n",
       "       [ 0.        , 58.97744434, 52.23434052, 92.51269201, 70.74611928,\n",
       "         0.        ,  0.        ,  0.        , 59.44401745, 59.270242  ],\n",
       "       [ 0.        , 83.63931421, 56.38734298,  0.        ,  0.        ,\n",
       "         0.        ,  0.        ,  0.        ,  0.        , 63.30901834],\n",
       "       [91.08211963, 68.34802088, 91.66149388,  0.        ,  0.        ,\n",
       "         0.        ,  0.        ,  0.        ,  0.        ,  0.        ],\n",
       "       [ 0.        , 51.06310555,  0.        ,  0.        , 63.47924102,\n",
       "         0.        , 54.73267899, 77.9343266 ,  0.        , 84.91218843],\n",
       "       [94.75392036, 87.2828837 ,  0.        ,  0.        ,  0.        ,\n",
       "         0.        , 86.53717128,  0.        ,  0.        , 90.02775862],\n",
       "       [79.57898394, 62.50293651, 82.7109355 ,  0.        , 78.75020119,\n",
       "        63.70431432,  0.        ,  0.        ,  0.        ,  0.        ],\n",
       "       [ 0.        , 92.01058396, 62.84814525,  0.        , 70.71187968,\n",
       "        81.83620503,  0.        ,  0.        , 58.11678475, 66.44240265],\n",
       "       [73.26419659,  0.        , 52.47440652, 76.31569693, 82.12431843,\n",
       "        89.18136832,  0.        ,  0.        , 56.44909559,  0.        ]])"
      ]
     },
     "execution_count": 67,
     "metadata": {},
     "output_type": "execute_result"
    }
   ],
   "source": [
    "arr[arr<50] = 0\n",
    "arr"
   ]
  },
  {
   "cell_type": "code",
   "execution_count": 69,
   "metadata": {},
   "outputs": [
    {
     "data": {
      "text/plain": [
       "array([[0.49608043, 0.        , 0.        , 0.        , 0.        ,\n",
       "        0.        , 0.        , 0.        , 0.        , 0.49659143],\n",
       "       [0.        , 0.        , 0.49587489, 0.49596693, 0.        ,\n",
       "        0.49378105, 0.        , 0.49577543, 0.49627223, 0.49411797],\n",
       "       [0.        , 0.49460337, 0.49390686, 0.49655942, 0.49550097,\n",
       "        0.        , 0.        , 0.        , 0.49464572, 0.49463003],\n",
       "       [0.        , 0.49619444, 0.49435553, 0.        , 0.        ,\n",
       "        0.        , 0.        , 0.        , 0.        , 0.49497254],\n",
       "       [0.49650538, 0.49534314, 0.49652747, 0.        , 0.        ,\n",
       "        0.        , 0.        , 0.        , 0.        , 0.        ],\n",
       "       [0.        , 0.49376714, 0.        , 0.        , 0.49498602,\n",
       "        0.        , 0.49418493, 0.49591589, 0.        , 0.49625148],\n",
       "       [0.49664079, 0.49635328, 0.        , 0.        , 0.        ,\n",
       "        0.        , 0.49632186, 0.        , 0.        , 0.49646446],\n",
       "       [0.49600029, 0.49490772, 0.49615173, 0.        , 0.4959582 ,\n",
       "        0.49500373, 0.        , 0.        , 0.        , 0.        ],\n",
       "       [0.        , 0.49654064, 0.49493568, 0.        , 0.49549879,\n",
       "        0.4961106 , 0.        , 0.        , 0.49452347, 0.4952096 ],\n",
       "       [0.49565558, 0.        , 0.49393473, 0.49582928, 0.49612424,\n",
       "        0.49643091, 0.        , 0.        , 0.49436171, 0.        ]])"
      ]
     },
     "execution_count": 69,
     "metadata": {},
     "output_type": "execute_result"
    }
   ],
   "source": [
    "np.arctan(arr) / np.pi"
   ]
  },
  {
   "cell_type": "code",
   "execution_count": 72,
   "metadata": {},
   "outputs": [
    {
     "data": {
      "text/plain": [
       "1728613008.919631"
      ]
     },
     "execution_count": 72,
     "metadata": {},
     "output_type": "execute_result"
    }
   ],
   "source": [
    "A = arr[:5,:5]\n",
    "np.linalg.det(A)"
   ]
  },
  {
   "cell_type": "code",
   "execution_count": 74,
   "metadata": {},
   "outputs": [],
   "source": [
    "B = np.random.rand(5)\n",
    "x = np.linalg.solve(A,B)"
   ]
  },
  {
   "cell_type": "code",
   "execution_count": 75,
   "metadata": {},
   "outputs": [
    {
     "data": {
      "text/plain": [
       "array([ 0.00195526, -0.0005666 ,  0.00613287, -0.00542167,  0.01665663])"
      ]
     },
     "execution_count": 75,
     "metadata": {},
     "output_type": "execute_result"
    }
   ],
   "source": [
    "x"
   ]
  },
  {
   "cell_type": "code",
   "execution_count": null,
   "metadata": {},
   "outputs": [],
   "source": []
  }
 ],
 "metadata": {
  "kernelspec": {
   "display_name": "Python 3",
   "language": "python",
   "name": "python3"
  },
  "language_info": {
   "codemirror_mode": {
    "name": "ipython",
    "version": 3
   },
   "file_extension": ".py",
   "mimetype": "text/x-python",
   "name": "python",
   "nbconvert_exporter": "python",
   "pygments_lexer": "ipython3",
   "version": "3.6.4"
  }
 },
 "nbformat": 4,
 "nbformat_minor": 2
}
